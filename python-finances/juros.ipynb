{
 "cells": [
  {
   "cell_type": "markdown",
   "metadata": {},
   "source": [
    "Exemplo didático para calculo de juros"
   ]
  },
  {
   "cell_type": "code",
   "execution_count": null,
   "metadata": {
    "collapsed": false
   },
   "outputs": [],
   "source": [
    "import sys\n",
    "if sys.version_info[0] >= 3:\n",
    "    raw_input = input\n",
    "\n",
    "\n",
    "def montante_comp(c, i, n):\n",
    "   '''Função para cálculo de montante\n",
    "      com juros compostos\n",
    "   '''\n",
    "   i = i/100\n",
    "   return c*(1+i)**n\n",
    "   \n",
    "def montante_simpl(c,i,n):\n",
    "   '''Função para cálculo de montante  com juros simples \n",
    "   '''\n",
    "   i = i/100\n",
    "   return c*(1+i*n)\n",
    "\n",
    "def parcela(c,i,n):\n",
    "   '''Função para cálculo do valor de uma parcela de empréstimo      \n",
    "   '''\n",
    "   i=i/100\n",
    "   return c*((i*(1+i)**n)/(((1+i)**n)-1))\n",
    "   \n",
    "# variaveis \n",
    "# Capital (c)\n",
    "# Prazo em meses (n)\n",
    "# Taxa de juros (i)\n",
    "   \n",
    "linha = '-'*75\n",
    "texto1 = ' Matematica Financeira '   \n",
    "c = float(raw_input(\"Qual o valor do Capital : \"))\n",
    "i = float(raw_input(\"Qual a taxa de juros (a.m) %: \"))\n",
    "n = float(raw_input(\"Quantas parcelas (em meses) :\" ))\n",
    "print ('\\n')\n",
    "print (texto1.center(75,'*'))\n",
    "\n",
    "print ('\\n')\n",
    "print (\"Montante com Juros simples: %0.2f \" % (montante_simpl(c,i,n)))\n",
    "print ('\\n')\n",
    "print (\"Montante com Juros Compostos: %0.2f \" % (montante_comp(c,i,n)))\n",
    "print ('\\n')\n",
    "print (\"Prestacao : %0.2f \" % (parcela(c,i,n)))\n",
    "\n"
   ]
  },
  {
   "cell_type": "code",
   "execution_count": null,
   "metadata": {
    "collapsed": true
   },
   "outputs": [],
   "source": []
  }
 ],
 "metadata": {
  "kernelspec": {
   "display_name": "Python 3",
   "language": "python",
   "name": "python3"
  },
  "language_info": {
   "codemirror_mode": {
    "name": "ipython",
    "version": 3
   },
   "file_extension": ".py",
   "mimetype": "text/x-python",
   "name": "python",
   "nbconvert_exporter": "python",
   "pygments_lexer": "ipython3",
   "version": "3.6.0"
  }
 },
 "nbformat": 4,
 "nbformat_minor": 2
}
