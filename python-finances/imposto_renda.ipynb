{
 "cells": [
  {
   "cell_type": "markdown",
   "metadata": {},
   "source": [
    "# Python para finanças\n",
    "## Exemplo 2: calcula_impostos.py"
   ]
  },
  {
   "cell_type": "code",
   "execution_count": 6,
   "metadata": {
    "collapsed": false
   },
   "outputs": [
    {
     "name": "stdout",
     "output_type": "stream",
     "text": [
      "Nome: mmm\n",
      "Salario Bruto(1000): 99999\n",
      "Aliquota INSS ( 11% ): 11\n",
      "Outras Deducoes: 0\n",
      "base 88999.11\n",
      "faixa 0 1903.98\n",
      "aliquota 0.0\n",
      "--------------------------------------------------------------------------------\n",
      "1903.98\n",
      "IR 0.0\n",
      "base 88999.11\n",
      "faixa 1903.98 2826.65\n",
      "aliquota 0.075\n",
      "--------------------------------------------------------------------------------\n",
      "922.6700000000001\n",
      "IR 69.20025\n",
      "base 88999.11\n",
      "faixa 2826.65 3751.05\n",
      "aliquota 0.15\n",
      "--------------------------------------------------------------------------------\n",
      "924.4000000000001\n",
      "IR 138.66\n",
      "base 88999.11\n",
      "faixa 3751.05 4664.68\n",
      "aliquota 0.225\n",
      "--------------------------------------------------------------------------------\n",
      "913.6300000000001\n",
      "IR 205.56675000000004\n",
      "base 88999.11\n",
      "faixa 4664.68 inf\n",
      "aliquota 0.275\n",
      "--------------------------------------------------------------------------------\n",
      "84334.43\n",
      "IR 23191.96825\n",
      "************ RESUMO **************\n",
      "Nome.........:  mmm\n",
      "----------------------------------\n",
      "Salario Bruto: 99999.0\n",
      "INSS......: 10999.89\n",
      "IRRF...........: 23605.40 \n",
      "Liquido......:  65393.71 \n"
     ]
    }
   ],
   "source": [
    "\n",
    "import math\n",
    "import sys\n",
    "\n",
    "\n",
    "if sys.version_info[0] >= 3:\n",
    "    raw_input = input\n",
    "\n",
    "def readFloat(s, d):\n",
    "  v = raw_input (s)\n",
    "  if not v: \n",
    "    return d\n",
    "  return float(v)\n",
    "\n",
    "def calcula_INSS(salario_bruto, aliquota):\n",
    "    return salario_bruto * (aliquota/100)\n",
    "    \n",
    "def calcula_IR(salario_bruto,inss,outras_deduc):\n",
    "    base = salario_bruto - inss - outras_deduc\n",
    "    valores_ir = [0]\n",
    "    faixa_ant = 0\n",
    "    aliquota_ant = 0\n",
    "\n",
    "    for faixa, aliquota in zip(FAIXAS, ALIQUOTAS):\n",
    "        print('base', base)\n",
    "        print('faixa', faixa_ant, faixa)\n",
    "        print('aliquota', aliquota/100)\n",
    "        print('-' * 80)\n",
    "\n",
    "        if base < faixa:\n",
    "            print(base-faixa_ant)\n",
    "            valores_ir.append((base - faixa_ant) * (aliquota/100))\n",
    "            print('IR', valores_ir[-1]) \n",
    "            break\n",
    "        else:\n",
    "            print(faixa-faixa_ant)\n",
    "            valores_ir.append((faixa - faixa_ant) * (aliquota/100))\n",
    "            print('IR', valores_ir[-1]) \n",
    "\n",
    "            \n",
    "        faixa_ant = faixa\n",
    "        aliquota_ant = aliquota\n",
    "\n",
    "    return sum(valores_ir)\n",
    "    \n",
    " \n",
    "FAIXAS = [1903.98, 2826.65, 3751.05, 4664.68, math.inf]\n",
    "ALIQUOTAS = [0, 7.5, 15.0, 22.5, 27.5]\n",
    "\n",
    " \n",
    "nome = raw_input( \"Nome: \" )\n",
    "salario_bruto = readFloat(\"Salario Bruto(1000): \",1000)\n",
    "aliquota_inss = readFloat(\"Aliquota INSS ( 11% ): \", 11)\n",
    "outras_deduc = readFloat(\"Outras Deducoes: \", 0) \n",
    " \n",
    "inss = calcula_INSS(salario_bruto, aliquota_inss)\n",
    "valor_IR = calcula_IR(salario_bruto,inss,outras_deduc)\n",
    "salario_liquido = salario_bruto - valor_IR - inss\n",
    "    \n",
    "print (\"************ RESUMO **************\")\n",
    "print (\"Nome.........: \", nome)\n",
    "print (\"----------------------------------\")\n",
    "print (\"Salario Bruto:\", salario_bruto)\n",
    "print (\"INSS......:\", inss)\n",
    "print (\"IRRF...........: %0.2f \" % valor_IR)\n",
    "print (\"Liquido......:  %0.2f \"% salario_liquido)\n"
   ]
  },
  {
   "cell_type": "code",
   "execution_count": null,
   "metadata": {
    "collapsed": true
   },
   "outputs": [],
   "source": []
  }
 ],
 "metadata": {
  "kernelspec": {
   "display_name": "Python 3",
   "language": "python",
   "name": "python3"
  },
  "language_info": {
   "codemirror_mode": {
    "name": "ipython",
    "version": 3
   },
   "file_extension": ".py",
   "mimetype": "text/x-python",
   "name": "python",
   "nbconvert_exporter": "python",
   "pygments_lexer": "ipython3",
   "version": "3.6.0"
  }
 },
 "nbformat": 4,
 "nbformat_minor": 2
}
