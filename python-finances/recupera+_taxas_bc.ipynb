{
 "cells": [
  {
   "cell_type": "markdown",
   "metadata": {},
   "source": [
    "Banco Central do Brasil\n",
    "\n",
    "PyPI version Build Status codecov\n",
    "Sobre\n",
    "\n",
    "    Obtenção de informações sobre taxas oficiais diárias de Inflação, Selic, Poupança e Dólar direto do site do Banco Central do Brasil (http://www.bcb.gov.br)\n",
    "\n",
    "Pré requisitos\n",
    "\n",
    "    Instalação de qualquer versão do Python (http://www.python.org/download)\n",
    "\n",
    "Instalação das dependências\n",
    "\n",
    "$ pip install -r feedparser"
   ]
  },
  {
   "cell_type": "code",
   "execution_count": 1,
   "metadata": {
    "collapsed": true
   },
   "outputs": [],
   "source": [
    "import feedparser\n",
    "import re\n",
    "\n",
    "USER_AGENT = \"Mozilla/5.0 (compatible, MSIE 11, Windows NT 6.3; Trident/7.0; rv:11.0) like Gecko\"\n",
    "\n",
    "class Inflacao:\n",
    "\n",
    "\tdef __init__(self):\n",
    "\t\tself.inflacao_url = \"http://conteudo.bcb.gov.br/api/feed/pt-br/PAINEL_INDICADORES/inflacao\"\n",
    "\t\tself.feed = feedparser.parse(self.inflacao_url, agent=USER_AGENT)\n",
    "\n",
    "\tdef get_meta_tax(self):\n",
    "\t\tfeed = self.feed\n",
    "\t\tif feed['status'] == 200:\n",
    "\t\t\tfor item in feed.entries:\n",
    "\t\t\t\tinflacao = item['summary']\n",
    "\t\t\t\ttax = re.search('<div id=label>Meta</div><div id=rate><div id=value>(\\d+,\\d+)</div>', inflacao).group(1)\n",
    "\t\t\treturn tax\n",
    "\t\telse:\n",
    "\t\t\treturn (\"URL error %s\" % self.inflacao_url)\n",
    "\n",
    "\tdef get_acumulada_tax(self):\n",
    "\t\tfeed = self.feed\n",
    "\t\tif feed['status'] == 200:\n",
    "\t\t\tfor item in feed.entries:\n",
    "\t\t\t\tinflacao = item['summary']\n",
    "\t\t\t\ttax = re.search('<div id=label>Acumulada</div><div id=rate><div id=value>(\\d+,\\d+)</div>', inflacao).group(1)\n",
    "\t\t\treturn tax\n",
    "\t\telse:\n",
    "\t\t\treturn (\"Site error %s\" % self.inflacao_url)\n",
    "\n",
    "class Poupanca:\n",
    "\n",
    "\tdef __init__(self):\n",
    "\t\tself.poupanca_url = \"http://conteudo.bcb.gov.br/api/feed/pt-br/PAINEL_INDICADORES/poupanca\"\n",
    "\t\tself.feed = feedparser.parse(self.poupanca_url, agent=USER_AGENT)\n",
    "\n",
    "\tdef get_poupanca_tax(self):\n",
    "\t\tfeed = self.feed\n",
    "\t\tif feed['status'] == 200:\n",
    "\t\t\tfor item in feed.entries:\n",
    "\t\t\t\tpoupanca = item['summary']\n",
    "\t\t\t\ttax = re.search('<div id=value>(\\d+,\\d+)</div>', poupanca).group(1)\n",
    "\t\t\treturn tax\n",
    "\t\telse:\n",
    "\t\t\treturn (\"URL error %s\" % self.poupanca_url)\n",
    "\n",
    "class Dolar:\n",
    "\n",
    "\tdef __init__(self):\n",
    "\t\tself.dolar_url = \"http://conteudo.bcb.gov.br/api/feed/pt-br/PAINEL_INDICADORES/cambio\"\n",
    "\t\tself.feed = feedparser.parse(self.dolar_url, agent=USER_AGENT)\n",
    "\n",
    "\tdef get_dolar_compra(self):\n",
    "\t\tfeed = self.feed\n",
    "\t\tif feed['status'] == 200:\n",
    "\t\t\tfor item in feed.entries:\n",
    "\t\t\t\ttitle = item['title']\n",
    "\t\t\t\tif re.search('(PTAX)', title) or (re.search('Euro', title)):\n",
    "\t\t\t\t\tcontinue\n",
    "\t\t\t\ttax = item['summary']\n",
    "\t\t\t\tcompra = re.search('<div id=rate><div id=label>Compra</div><div id=value>(\\d+,\\d+)</div>', tax).group(1)\n",
    "\n",
    "\t\t\treturn compra\n",
    "\n",
    "\t\telse:\n",
    "\t\t\treturn (\"URL error %s\" % self.dolar_url)\n",
    "\n",
    "\tdef get_dolar_venda(self):\n",
    "\t\tfeed = self.feed\n",
    "\t\tif feed['status'] == 200:\n",
    "\t\t\tfor item in feed.entries:\n",
    "\t\t\t\ttitle = item['title']\n",
    "\t\t\t\tif re.search('(PTAX)', title) or (re.search('Euro', title)):\n",
    "\t\t\t\t\tcontinue\n",
    "\t\t\t\ttax = item['summary']\n",
    "\t\t\t\tvenda = re.search('<div id=rate><div id=label>Venda</div><div id=value>(\\d+,\\d+)</div>', tax).group(1)\n",
    "\t\t\treturn venda\n",
    "\t\telse:\n",
    "\t\t\treturn (\"Site error %s\" % self.dolar_url)\n",
    "\n",
    "class Selic:\n",
    "\n",
    "\tdef __init__(self):\n",
    "\t\tself.selic_url = \"http://conteudo.bcb.gov.br/api/feed/pt-br/PAINEL_INDICADORES/juros\"\n",
    "\t\tself.feed = feedparser.parse(self.selic_url, agent=USER_AGENT)\n",
    "\n",
    "\n",
    "\tdef get_selic_real(self):\n",
    "\t\tfeed = self.feed\n",
    "\t\tif feed['status'] == 200:\n",
    "\t\t\tfor item in feed.entries:\n",
    "\t\t\t\tselic = item['summary']\n",
    "\t\t\t\tselic_real = re.search('<div id=dailyrate><div id=dailyratevalue>(\\d+,\\d+)</div>', selic).group(1)\n",
    "\t\t\treturn selic_real\n",
    "\t\telse:\n",
    "\t\t\treturn (\"Site error %s\" % self.selic_url)"
   ]
  },
  {
   "cell_type": "code",
   "execution_count": 2,
   "metadata": {
    "collapsed": false
   },
   "outputs": [
    {
     "name": "stdout",
     "output_type": "stream",
     "text": [
      "Inflação Meta: 4,5\n",
      "Inflação acumulada 12 últimos meses: 2,8\n",
      "Poupança: 0,3994\n",
      "Dólar compra: 3,3203\n",
      "Dólar venda: 3,3209\n",
      "Selic diaria: 6,9\n"
     ]
    }
   ],
   "source": [
    "#from bancocentral import Inflacao, Poupanca, Dolar, Selic\n",
    "\n",
    "infl = Inflacao()\n",
    "print(u'Inflação Meta: %s' % infl.get_meta_tax())\n",
    "print(u'Inflação acumulada 12 últimos meses: %s' % infl.get_acumulada_tax())\n",
    "\n",
    "poup = Poupanca()\n",
    "print(u'Poupança: %s' % poup.get_poupanca_tax())\n",
    "\n",
    "dolar = Dolar()\n",
    "print(u'Dólar compra: %s' % dolar.get_dolar_compra())\n",
    "print(u'Dólar venda: %s' % dolar.get_dolar_venda())\n",
    "\n",
    "selic = Selic()\n",
    "print(u'Selic diaria: %s' % selic.get_selic_real())\n"
   ]
  },
  {
   "cell_type": "code",
   "execution_count": null,
   "metadata": {
    "collapsed": true
   },
   "outputs": [],
   "source": []
  }
 ],
 "metadata": {
  "kernelspec": {
   "display_name": "Python 3",
   "language": "python",
   "name": "python3"
  },
  "language_info": {
   "codemirror_mode": {
    "name": "ipython",
    "version": 3
   },
   "file_extension": ".py",
   "mimetype": "text/x-python",
   "name": "python",
   "nbconvert_exporter": "python",
   "pygments_lexer": "ipython3",
   "version": "3.6.0"
  }
 },
 "nbformat": 4,
 "nbformat_minor": 2
}
